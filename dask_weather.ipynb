{
 "cells": [
  {
   "cell_type": "code",
   "execution_count": 1,
   "id": "7340426b-e2a1-4b41-87ea-9c35d6c3e084",
   "metadata": {},
   "outputs": [
    {
     "name": "stderr",
     "output_type": "stream",
     "text": [
      "/home/kingpin/anaconda3/envs/mldl/lib/python3.10/site-packages/optuna/study/_optimize.py:21: TqdmWarning: IProgress not found. Please update jupyter and ipywidgets. See https://ipywidgets.readthedocs.io/en/stable/user_install.html\n",
      "  from optuna import progress_bar as pbar_module\n"
     ]
    }
   ],
   "source": [
    "import os\n",
    "import glob\n",
    "import zipfile\n",
    "import numpy as np\n",
    "import dask.dataframe as dd\n",
    "import matplotlib.pyplot as plt\n",
    "from dask_ml.model_selection import train_test_split\n",
    "from dask_ml.linear_model import LinearRegression\n",
    "from dask.distributed import Client"
   ]
  },
  {
   "cell_type": "code",
   "execution_count": 2,
   "id": "d1e20109-08c5-469e-a4fe-389d9c4c26f0",
   "metadata": {
    "scrolled": true
   },
   "outputs": [
    {
     "name": "stdout",
     "output_type": "stream",
     "text": [
      "<Client: 'tcp://192.168.0.103:8786' processes=2 threads=16, memory=29.08 GiB>\n"
     ]
    }
   ],
   "source": [
    "# ==============================================\n",
    "# 🚀 1. Start Dask Client (Connect to Scheduler)\n",
    "# ==============================================\n",
    "client = Client('tcp://192.168.0.103:8786')  # Updated your local laptop IP\n",
    "print(client)\n",
    "\n",
    "\n",
    "   "
   ]
  },
  {
   "cell_type": "code",
   "execution_count": 3,
   "id": "65d6bc29-b543-42d0-9d83-617c5d0d1aca",
   "metadata": {},
   "outputs": [
    {
     "name": "stdout",
     "output_type": "stream",
     "text": [
      "📂 Checking Kaggle Weather Events data...\n",
      "📂 Loading /home/kingpin/nfs_shared/WeatherEvents_Jan2016-Dec2022.csv with Dask...\n",
      "✅ Columns available: Index(['EventId', 'Type', 'Severity', 'StartTime(UTC)', 'EndTime(UTC)',\n",
      "       'Precipitation(in)', 'TimeZone', 'AirportCode', 'LocationLat',\n",
      "       'LocationLng', 'City', 'County', 'State', 'ZipCode'],\n",
      "      dtype='object')\n",
      "  EventId  Type Severity       StartTime(UTC)         EndTime(UTC)  \\\n",
      "0     W-1  Snow    Light  2016-01-06 23:14:00  2016-01-07 00:34:00   \n",
      "1     W-2  Snow    Light  2016-01-07 04:14:00  2016-01-07 04:54:00   \n",
      "2     W-3  Snow    Light  2016-01-07 05:54:00  2016-01-07 15:34:00   \n",
      "3     W-4  Snow    Light  2016-01-08 05:34:00  2016-01-08 05:54:00   \n",
      "4     W-5  Snow    Light  2016-01-08 13:54:00  2016-01-08 15:54:00   \n",
      "\n",
      "   Precipitation(in)     TimeZone AirportCode  LocationLat  LocationLng  \\\n",
      "0               0.00  US/Mountain        K04V      38.0972    -106.1689   \n",
      "1               0.00  US/Mountain        K04V      38.0972    -106.1689   \n",
      "2               0.03  US/Mountain        K04V      38.0972    -106.1689   \n",
      "3               0.00  US/Mountain        K04V      38.0972    -106.1689   \n",
      "4               0.00  US/Mountain        K04V      38.0972    -106.1689   \n",
      "\n",
      "       City    County State  ZipCode  \n",
      "0  Saguache  Saguache    CO  81149.0  \n",
      "1  Saguache  Saguache    CO  81149.0  \n",
      "2  Saguache  Saguache    CO  81149.0  \n",
      "3  Saguache  Saguache    CO  81149.0  \n",
      "4  Saguache  Saguache    CO  81149.0  \n"
     ]
    }
   ],
   "source": [
    "print(\"📂 Checking Kaggle Weather Events data...\")\n",
    "\n",
    "# Use environment variable or fallback to default\n",
    "nfs_mount = os.environ.get(\"nfs_mount_path\", \"/home/kingpin/nfs_shared\")\n",
    "csv_path = os.path.join(nfs_mount, \"WeatherEvents_Jan2016-Dec2022.csv\")\n",
    "\n",
    "# Now load the CSV\n",
    "print(f\"📂 Loading {csv_path} with Dask...\")\n",
    "df = dd.read_csv(csv_path, assume_missing=True,blocksize=\"64MB\")\n",
    "df = df.persist()\n",
    "print(\"✅ Columns available:\", df.columns)\n",
    "print(df.head())"
   ]
  },
  {
   "cell_type": "code",
   "execution_count": 4,
   "id": "80e382d3-9942-4782-86ec-19bbc5b6ec26",
   "metadata": {},
   "outputs": [
    {
     "name": "stdout",
     "output_type": "stream",
     "text": [
      "✅ Columns available:\n",
      "Index(['EventId', 'Type', 'Severity', 'StartTime(UTC)', 'EndTime(UTC)',\n",
      "       'Precipitation(in)', 'TimeZone', 'AirportCode', 'LocationLat',\n",
      "       'LocationLng', 'City', 'County', 'State', 'ZipCode'],\n",
      "      dtype='object')\n",
      "\n",
      "🧹 Basic Dataset Info:\n",
      "EventId              string[pyarrow]\n",
      "Type                 string[pyarrow]\n",
      "Severity             string[pyarrow]\n",
      "StartTime(UTC)       string[pyarrow]\n",
      "EndTime(UTC)         string[pyarrow]\n",
      "Precipitation(in)            float64\n",
      "TimeZone             string[pyarrow]\n",
      "AirportCode          string[pyarrow]\n",
      "LocationLat                  float64\n",
      "LocationLng                  float64\n",
      "City                 string[pyarrow]\n",
      "County               string[pyarrow]\n",
      "State                string[pyarrow]\n",
      "ZipCode                      float64\n",
      "dtype: object\n"
     ]
    }
   ],
   "source": [
    "# ==============================================\n",
    "# 🔎 2.1 Inspect Dataset Columns and Basic Info\n",
    "# ==============================================\n",
    "print(\"✅ Columns available:\")\n",
    "print(df.columns)\n",
    "\n",
    "print(\"\\n🧹 Basic Dataset Info:\")\n",
    "print(df.dtypes)\n",
    "\n"
   ]
  },
  {
   "cell_type": "code",
   "execution_count": 5,
   "id": "518118b2-537f-4df5-8aad-d1a1d337a849",
   "metadata": {},
   "outputs": [
    {
     "name": "stdout",
     "output_type": "stream",
     "text": [
      "🛠️ Starting FULL bulletproof preprocessing...\n",
      "📅 Parsing StartTime(UTC) as datetime...\n",
      "Extracting Year from StartTime...\n",
      "🏷️ Categorizing columns: ['Type', 'Severity', 'State']...\n",
      "🏷️ Creating categorical code columns...\n",
      "Dropping missing Precipitation rows...\n",
      "🧠 Persisting final preprocessed DataFrame to memory...\n",
      "FULL Basic Preprocessing Complete!\n"
     ]
    }
   ],
   "source": [
    "# ==============================================\n",
    "#  BASIC PREPROCESSING\n",
    "# ==============================================\n",
    "print(\"🛠️ Starting FULL bulletproof preprocessing...\")\n",
    "\n",
    "import dask.dataframe as dd\n",
    "\n",
    "# 1. Parse datetime\n",
    "print(\"📅 Parsing StartTime(UTC) as datetime...\")\n",
    "df['StartTime(UTC)'] = dd.to_datetime(df['StartTime(UTC)'], errors='coerce')\n",
    "\n",
    "# 2. Extract year\n",
    "print(\"Extracting Year from StartTime...\")\n",
    "df['Year'] = df['StartTime(UTC)'].dt.year\n",
    "\n",
    "\n",
    "\n",
    "\n",
    "# 3. Categorize string columns properly\n",
    "categorical_columns = ['Type', 'Severity', 'State']\n",
    "print(f\"🏷️ Categorizing columns: {categorical_columns}...\")\n",
    "df = df.categorize(columns=categorical_columns)\n",
    "\n",
    "# 4. Create category code columns\n",
    "print(\"🏷️ Creating categorical code columns...\")\n",
    "for col in categorical_columns:\n",
    "    df[col + '_Code'] = df[col].cat.codes\n",
    "\n",
    "# 5. Drop rows where Precipitation(in) is missing\n",
    "print(\"Dropping missing Precipitation rows...\")\n",
    "df = df.dropna(subset=['Precipitation(in)'])\n",
    "\n",
    "'''# 6. Materialize FULL df now to avoid lazy Categorize errors\n",
    "print(\"Materializing full DataFrame after preprocessing...\")\n",
    "df = df.compute()\n",
    "\n",
    "# 7. Rebuild fresh Dask DataFrame for further processing\n",
    "print(\" Rebuilding as fresh Dask DataFrame...\")\n",
    "df = dd.from_pandas(df, npartitions=8)'''\n",
    "\n",
    "\n",
    "# 6. Persist the preprocessed graph (better than compute!)\n",
    "print(\"🧠 Persisting final preprocessed DataFrame to memory...\")\n",
    "df = df.persist()\n",
    "\n",
    "print(\"FULL Basic Preprocessing Complete!\")\n"
   ]
  },
  {
   "cell_type": "code",
   "execution_count": 6,
   "id": "eb4d70e7-8728-4b8c-a5c4-9dc4a5a190e6",
   "metadata": {},
   "outputs": [
    {
     "name": "stdout",
     "output_type": "stream",
     "text": [
      " Preparing feature matrix and target vector...\n",
      " Features and target ready!\n",
      "Features: ['Type_Code', 'Severity_Code', 'State_Code', 'Year', 'LocationLat', 'LocationLng']\n",
      "Target: Precipitation(in)\n"
     ]
    }
   ],
   "source": [
    "# ==============================================\n",
    "# 📊 4. Prepare Features (X) and Target (y)\n",
    "# ==============================================\n",
    "print(\" Preparing feature matrix and target vector...\")\n",
    "\n",
    "# Define features and target\n",
    "features = ['Type_Code', 'Severity_Code', 'State_Code', 'Year', 'LocationLat', 'LocationLng']\n",
    "target = 'Precipitation(in)'\n",
    "\n",
    "# Select\n",
    "X = df[features]\n",
    "y = df[target]\n",
    "\n",
    "print(\" Features and target ready!\")\n",
    "print(f\"Features: {X.columns.tolist()}\")\n",
    "print(f\"Target: {target}\")\n"
   ]
  },
  {
   "cell_type": "code",
   "execution_count": 7,
   "id": "8840ffac-cc83-4dfa-b7c9-3de266a2d895",
   "metadata": {},
   "outputs": [
    {
     "name": "stdout",
     "output_type": "stream",
     "text": [
      "✂️ Splitting into train and test sets...\n",
      "✅ Train-test split done!\n"
     ]
    },
    {
     "name": "stderr",
     "output_type": "stream",
     "text": [
      "/home/kingpin/anaconda3/envs/mldl/lib/python3.10/site-packages/dask_ml/model_selection/_split.py:464: FutureWarning: The default value for 'shuffle' must be specified when splitting DataFrames. In the future DataFrames will automatically be shuffled within blocks prior to splitting. Specify 'shuffle=True' to adopt the future behavior now, or 'shuffle=False' to retain the previous behavior.\n",
      "  warnings.warn(\n"
     ]
    },
    {
     "name": "stdout",
     "output_type": "stream",
     "text": [
      "Train size: 6901125 samples\n",
      "Test size: 1726056 samples\n"
     ]
    }
   ],
   "source": [
    "# ==============================================\n",
    "# ✂️ 5. Train-Test Split\n",
    "# ==============================================\n",
    "print(\"✂️ Splitting into train and test sets...\")\n",
    "\n",
    "from dask_ml.model_selection import train_test_split\n",
    "\n",
    "# Split\n",
    "X_train, X_test, y_train, y_test = train_test_split(X, y, test_size=0.2, random_state=42)\n",
    "\n",
    "print(\"✅ Train-test split done!\")\n",
    "print(f\"Train size: {len(X_train)} samples\")\n",
    "print(f\"Test size: {len(X_test)} samples\")\n"
   ]
  },
  {
   "cell_type": "code",
   "execution_count": 8,
   "id": "857ea295-48cb-4503-b929-c69e93615431",
   "metadata": {},
   "outputs": [
    {
     "name": "stdout",
     "output_type": "stream",
     "text": [
      "🔎 Checking Dask workers...\n",
      "✅ 2 workers connected.\n",
      "  • Worker: tcp://192.168.0.103:44869\n",
      "    - CPU cores : 8\n",
      "    - Memory GB : 16.68 GB\n",
      "  • Worker: tcp://192.168.0.106:44635\n",
      "    - CPU cores : 8\n",
      "    - Memory GB : 14.55 GB\n"
     ]
    }
   ],
   "source": [
    "# ==============================================\n",
    "# 🔎 Check Dask Workers Status (Clean Version)\n",
    "# ==============================================\n",
    "print(\"🔎 Checking Dask workers...\")\n",
    "\n",
    "workers_info = client.scheduler_info()[\"workers\"]\n",
    "\n",
    "if not workers_info:\n",
    "    print(\"❌ No workers found! (Something wrong — restart Dask cluster.)\")\n",
    "else:\n",
    "    print(f\"✅ {len(workers_info)} workers connected.\")\n",
    "    for addr, info in workers_info.items():\n",
    "        print(f\"  • Worker: {addr}\")\n",
    "        print(f\"    - CPU cores : {info['nthreads']}\")\n",
    "        print(f\"    - Memory GB : {round(info['memory_limit'] / 1e9, 2)} GB\")\n"
   ]
  },
  {
   "cell_type": "code",
   "execution_count": 9,
   "id": "0cf79cd7-8255-455b-a4a7-28c4adfbbb95",
   "metadata": {},
   "outputs": [
    {
     "name": "stdout",
     "output_type": "stream",
     "text": [
      "♻️ Rebalancing data across workers...\n",
      "✅ Rebalancing complete!\n"
     ]
    }
   ],
   "source": [
    "# ==============================================\n",
    "# ♻️ Rebalance Data Across Dask Workers\n",
    "# ==============================================\n",
    "print(\"♻️ Rebalancing data across workers...\")\n",
    "\n",
    "client.rebalance()\n",
    "\n",
    "print(\"✅ Rebalancing complete!\")\n"
   ]
  },
  {
   "cell_type": "code",
   "execution_count": 10,
   "id": "12253608-afb2-4e0a-9c10-3f94d9852668",
   "metadata": {},
   "outputs": [],
   "source": [
    "client.rebalance([X_train, y_train])\n"
   ]
  },
  {
   "cell_type": "code",
   "execution_count": 11,
   "id": "7800c6e7-88e8-43f0-b805-118ab276599b",
   "metadata": {},
   "outputs": [
    {
     "name": "stdout",
     "output_type": "stream",
     "text": [
      "🎯 Training distributed Linear Regression model...\n",
      "✅ Model training complete!\n"
     ]
    }
   ],
   "source": [
    "# ==============================================\n",
    "# 🎯 6. Train Distributed Linear Regression\n",
    "# ==============================================\n",
    "print(\"🎯 Training distributed Linear Regression model...\")\n",
    "\n",
    "from dask_ml.linear_model import LinearRegression\n",
    "\n",
    "# Create model\n",
    "lr = LinearRegression()\n",
    "\n",
    "# ⭐ Important: Dask-ML expects Dask Arrays, not Dask DataFrames\n",
    "X_train_array = X_train.to_dask_array(lengths=True)\n",
    "y_train_array = y_train.to_dask_array(lengths=True)\n",
    "\n",
    "# Train\n",
    "lr.fit(X_train_array, y_train_array)\n",
    "\n",
    "print(\"✅ Model training complete!\")\n"
   ]
  },
  {
   "cell_type": "code",
   "execution_count": 12,
   "id": "91fc95f0-7f43-44a4-970b-4bc80c8afe8b",
   "metadata": {},
   "outputs": [
    {
     "name": "stdout",
     "output_type": "stream",
     "text": [
      "🔄 Converting Train/Test DataFrames to Arrays...\n",
      "✅ Conversion complete!\n"
     ]
    }
   ],
   "source": [
    "# ==============================================\n",
    "# 🔄 Convert Train/Test Dask DataFrames to Dask Arrays\n",
    "# ==============================================\n",
    "print(\"🔄 Converting Train/Test DataFrames to Arrays...\")\n",
    "\n",
    "X_train_array = X_train.to_dask_array(lengths=True)\n",
    "X_test_array = X_test.to_dask_array(lengths=True)\n",
    "y_train_array = y_train.to_dask_array(lengths=True)\n",
    "y_test_array = y_test.to_dask_array(lengths=True)\n",
    "\n",
    "print(\"✅ Conversion complete!\")"
   ]
  },
  {
   "cell_type": "code",
   "execution_count": 13,
   "id": "aa9d3d40-abf7-4b40-bbd8-d253d864c1ab",
   "metadata": {},
   "outputs": [
    {
     "name": "stdout",
     "output_type": "stream",
     "text": [
      "📊 Visualizing Training Graph...\n",
      "✅ Train/Train Graph saved!\n"
     ]
    }
   ],
   "source": [
    "# ==============================================\n",
    "# 📊 Save Train Graph before Prediction\n",
    "# ==============================================\n",
    "print(\"📊 Visualizing Training Graph...\")\n",
    "\n",
    "# Visualize the trained model's prediction setup\n",
    "# (Since lr.fit() has completed, now visualize X_test preparation)\n",
    "X_train_array.visualize(filename=\"graphs/X_test_array_graph\", format=\"png\", rankdir=\"LR\")\n",
    "\n",
    "print(\"✅ Train/Train Graph saved!\")\n"
   ]
  },
  {
   "cell_type": "code",
   "execution_count": 14,
   "id": "55dde726-abe6-49c0-8252-082bff6c7cee",
   "metadata": {},
   "outputs": [
    {
     "name": "stdout",
     "output_type": "stream",
     "text": [
      "📊 Visualizing Training Graph...\n",
      "✅ Train/Test Graph saved!\n"
     ]
    }
   ],
   "source": [
    "# ==============================================\n",
    "# 📊 Save Train Graph before Prediction\n",
    "# ==============================================\n",
    "print(\"📊 Visualizing Training Graph...\")\n",
    "\n",
    "# Visualize the trained model's prediction setup\n",
    "# (Since lr.fit() has completed, now visualize X_test preparation)\n",
    "X_test_array.visualize(filename=\"graphs/X_test_array_graph\", format=\"png\", rankdir=\"LR\")\n",
    "\n",
    "print(\"✅ Train/Test Graph saved!\")\n"
   ]
  },
  {
   "cell_type": "code",
   "execution_count": 15,
   "id": "2cb5eb1e-de55-4d32-8b61-cacc554265d3",
   "metadata": {},
   "outputs": [
    {
     "name": "stdout",
     "output_type": "stream",
     "text": [
      "📈 Starting distributed predictions...\n",
      "🧹 Computing predictions and actuals...\n",
      "📉 Evaluating prediction performance...\n",
      "✅ Mean Absolute Error (MAE): 0.1364 inches Precipitation\n"
     ]
    }
   ],
   "source": [
    "# ==============================================\n",
    "# 📈 7. Predict + Evaluate\n",
    "# ==============================================\n",
    "print(\"📈 Starting distributed predictions...\")\n",
    "\n",
    "# Distributed Prediction\n",
    "y_pred = lr.predict(X_test_array)\n",
    "\n",
    "# ⭐ (Optional) Visualize Prediction Task Graph\n",
    "#y_pred.visualize(filename=\"graphs/prediction_graph\", format=\"png\", rankdir=\"LR\")\n",
    "\n",
    "# ==============================================\n",
    "# 🧹 7.1 Compute Predictions and Ground Truth\n",
    "# ==============================================\n",
    "print(\"🧹 Computing predictions and actuals...\")\n",
    "\n",
    "y_test_computed = y_test_array.compute()\n",
    "y_pred_computed = y_pred.compute()\n",
    "\n",
    "# ==============================================\n",
    "# 📉 7.2 Mean Absolute Error (MAE) Evaluation\n",
    "# ==============================================\n",
    "print(\"📉 Evaluating prediction performance...\")\n",
    "\n",
    "mae = np.mean(np.abs(y_test_computed - y_pred_computed))\n",
    "print(f\"✅ Mean Absolute Error (MAE): {mae:.4f} inches Precipitation\")\n"
   ]
  },
  {
   "cell_type": "code",
   "execution_count": 16,
   "id": "c50289e1-8dd6-4dcb-bb68-f185a7087f08",
   "metadata": {},
   "outputs": [
    {
     "name": "stdout",
     "output_type": "stream",
     "text": [
      "📈 Plotting Actual vs Predicted Scatter Plot...\n"
     ]
    },
    {
     "data": {
      "image/png": "[encoded data removed]",
      "text/plain": [
       "<Figure size 800x600 with 1 Axes>"
      ]
     },
     "metadata": {},
     "output_type": "display_data"
    },
    {
     "name": "stdout",
     "output_type": "stream",
     "text": [
      "✅ Plot saved as graphs/actual_vs_predicted.png\n"
     ]
    }
   ],
   "source": [
    "# ==============================================\n",
    "# 📈 8. Plot Actual vs Predicted\n",
    "# ==============================================\n",
    "print(\"📈 Plotting Actual vs Predicted Scatter Plot...\")\n",
    "\n",
    "import matplotlib.pyplot as plt\n",
    "\n",
    "plt.figure(figsize=(8, 6))\n",
    "plt.scatter(y_test_computed, y_pred_computed, alpha=0.3)\n",
    "plt.plot([0, max(y_test_computed.max(), y_pred_computed.max())], \n",
    "         [0, max(y_test_computed.max(), y_pred_computed.max())], \n",
    "         'r--')\n",
    "plt.xlabel('Actual Precipitation (inches)')\n",
    "plt.ylabel('Predicted Precipitation (inches)')\n",
    "plt.title('Actual vs Predicted Precipitation (Distributed Dask ML)')\n",
    "plt.grid(True)\n",
    "plt.tight_layout()\n",
    "plt.savefig(\"graphs/actual_vs_predicted.png\")\n",
    "plt.show()\n",
    "\n",
    "print(\"✅ Plot saved as graphs/actual_vs_predicted.png\")\n"
   ]
  },
  {
   "cell_type": "code",
   "execution_count": null,
   "id": "3386f1e9-2a2d-455a-b9b6-8bd6d3fa399d",
   "metadata": {},
   "outputs": [],
   "source": []
  }
 ],
 "metadata": {
  "kernelspec": {
   "display_name": "Python (mldl)",
   "language": "python",
   "name": "mldl"
  },
  "language_info": {
   "codemirror_mode": {
    "name": "ipython",
    "version": 3
   },
   "file_extension": ".py",
   "mimetype": "text/x-python",
   "name": "python",
   "nbconvert_exporter": "python",
   "pygments_lexer": "ipython3",
   "version": "3.10.16"
  }
 },
 "nbformat": 4,
 "nbformat_minor": 5
}
